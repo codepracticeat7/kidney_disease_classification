{
 "cells": [
  {
   "cell_type": "code",
   "execution_count": 1,
   "id": "33d1826b",
   "metadata": {},
   "outputs": [],
   "source": [
    "import os\n"
   ]
  },
  {
   "cell_type": "code",
   "execution_count": 2,
   "id": "63e96ef1",
   "metadata": {},
   "outputs": [
    {
     "data": {
      "text/plain": [
       "'k:\\\\data science\\\\kidney_disease_classification_project\\\\Research'"
      ]
     },
     "execution_count": 2,
     "metadata": {},
     "output_type": "execute_result"
    }
   ],
   "source": [
    "%pwd"
   ]
  },
  {
   "cell_type": "code",
   "execution_count": 3,
   "id": "249d5095",
   "metadata": {},
   "outputs": [],
   "source": [
    "os .chdir(\"../\")"
   ]
  },
  {
   "cell_type": "code",
   "execution_count": 4,
   "id": "3de45e64",
   "metadata": {},
   "outputs": [
    {
     "data": {
      "text/plain": [
       "'k:\\\\data science\\\\kidney_disease_classification_project'"
      ]
     },
     "execution_count": 4,
     "metadata": {},
     "output_type": "execute_result"
    }
   ],
   "source": [
    "%pwd"
   ]
  },
  {
   "cell_type": "code",
   "execution_count": 6,
   "id": "b1d609a1",
   "metadata": {},
   "outputs": [],
   "source": [
    "from dataclasses import dataclass\n",
    "from pathlib import Path\n",
    "\n",
    "\n",
    "@dataclass(frozen=True)\n",
    "class DataIngestionConfig:\n",
    "    root_dir: Path\n",
    "    source_URL: str\n",
    "    local_data_file: Path\n",
    "    unzip_dir: Path"
   ]
  },
  {
   "cell_type": "markdown",
   "id": "3292c849",
   "metadata": {},
   "source": [
    "use of path"
   ]
  },
  {
   "cell_type": "code",
   "execution_count": 12,
   "id": "1d5d99d0",
   "metadata": {},
   "outputs": [
    {
     "name": "stdout",
     "output_type": "stream",
     "text": [
      "src\\cnnclassifier\\constants\\__init__.py\n",
      "src\\cnnclassifier\\constants\\__pycache__\n"
     ]
    }
   ],
   "source": [
    "for file in Path(\"src/cnnclassifier/constants\").iterdir():\n",
    "    print(file)"
   ]
  },
  {
   "cell_type": "code",
   "execution_count": 13,
   "id": "1a98ab98",
   "metadata": {},
   "outputs": [],
   "source": [
    "from cnnclassifier.constants import *\n",
    "from cnnclassifier.utils.common import read_yaml, create_directories\n"
   ]
  },
  {
   "cell_type": "code",
   "execution_count": null,
   "id": "e55b6f1c",
   "metadata": {},
   "outputs": [],
   "source": [
    "class configuration_manager:\n",
    "    def __init__(\n",
    "                self,\n",
    "                config_filepath = CONFIG_FILE_PATH,\n",
    "                params_filepath= PARAMS_FILE_PATH):\n",
    "        \n",
    "        self.config=read_yaml(config_filepath)\n",
    "        self.params=read_yaml(params_filepath)\n",
    "        create_directories([self.config.artifacts_root])\n",
    "    def get_data_ingestion_config(self)->DataIngestionConfig:\n",
    "        config=self.config.data_ingestion\n",
    "        create_directories([config.root_dir])\n",
    "        data_ingestion_config=DataIngestionConfig(root_dir=config.root_dir,\n",
    "                                                  source_URL=config.source_URL,\n",
    "                                                  local_data_file=config.local_data_file,\n",
    "                                                  unzip_dir=config.unzip_dir)\n",
    "        return data_ingestion_config\n"
   ]
  },
  {
   "cell_type": "code",
   "execution_count": null,
   "id": "fb5004d5",
   "metadata": {},
   "outputs": [],
   "source": [
    "import os\n",
    "import zipfile\n",
    "import gdown\n",
    "from cnnclassifier import logger\n",
    "from cnnclassifier.utils.common import get_size\n"
   ]
  },
  {
   "cell_type": "code",
   "execution_count": null,
   "id": "bf2dc856",
   "metadata": {},
   "outputs": [],
   "source": [
    "from pathlib import Path\n",
    "class data:\n",
    "    def __init__(self,config:DataIngestionConfig):\n",
    "        self.config=config\n",
    "        \n",
    "    def download_data(self):\n",
    "        try:\n",
    "            '''\n",
    "            Fetch data from the url\n",
    "            '''\n",
    "            \n",
    "            dataset_url=self.config.source_URL\n",
    "            os.makedirs(self.config.root_dir,exist_ok=True)\n",
    "            zip_download_dir=self.config.local_data_file\n",
    "            logger.info(f\"creating directeries for data as {zip_download_dir} \")\n",
    "            logger.info(f\"Downloading data from {dataset_url} into file {zip_download_dir}\")\n",
    "            file_id =dataset_url.split(\"/\")[-2]\n",
    "            prefix_url= 'https://drive.google.com/uc?/export=download&id='\n",
    "            gdown.download(prefix_url+file_id,zip_download_dir)\n",
    "            logger.info(f\"Downloaded data from {dataset_url} into file {zip_download_dir}\")\n",
    "\n",
    "        except Exception as e:\n",
    "            raise e\n",
    "    def unzip_data(self):\n",
    "\n",
    "        Path(self.config.unzip_dir).mkdir(parents=True, exist_ok=True)\n",
    "\n",
    "        with zipfile.ZipFile(self.config.local_data_file,'r') as zip_ref:\n",
    "            zip_ref.extractall(self.config.unzip_dir)\n",
    "            logger.info(f\"Downloaded data extracted into the folder {self.config.unzip_dir}\")\n",
    "\n",
    "       \n",
    "\n",
    "\n",
    "\n"
   ]
  },
  {
   "cell_type": "code",
   "execution_count": 35,
   "id": "aeb7fb95",
   "metadata": {},
   "outputs": [
    {
     "name": "stdout",
     "output_type": "stream",
     "text": [
      "[2025-08-05 15:59:40,329: INFO: common: yaml file: config\\config.yaml loaded successfully]\n",
      "[2025-08-05 15:59:40,339: INFO: common: yaml file: params.yaml loaded successfully]\n",
      "[2025-08-05 15:59:40,344: INFO: common: created directory at: artifacts]\n",
      "[2025-08-05 15:59:40,348: INFO: common: created directory at: artifacts/data_ingestion]\n",
      "[2025-08-05 15:59:40,352: INFO: 2605066958: creating directeries for data as artifacts/data_ingestion/data.zip ]\n",
      "[2025-08-05 15:59:40,355: INFO: 2605066958: Downloading data from https://drive.google.com/file/d/1Cao2q1M0b41r7P4EUmGh48numVMrA2BO/view?usp=drive_link into file artifacts/data_ingestion/data.zip]\n"
     ]
    },
    {
     "name": "stderr",
     "output_type": "stream",
     "text": [
      "Downloading...\n",
      "From (original): https://drive.google.com/uc?/export=download&id=1Cao2q1M0b41r7P4EUmGh48numVMrA2BO\n",
      "From (redirected): https://drive.google.com/uc?%2Fexport=download&id=1Cao2q1M0b41r7P4EUmGh48numVMrA2BO&confirm=t&uuid=d243cf01-1af2-48a2-9791-5ccc706b4516\n",
      "To: k:\\data science\\kidney_disease_classification_project\\artifacts\\data_ingestion\\data.zip\n",
      "100%|██████████| 57.7M/57.7M [00:45<00:00, 1.27MB/s]"
     ]
    },
    {
     "name": "stdout",
     "output_type": "stream",
     "text": [
      "[2025-08-05 16:00:27,928: INFO: 2605066958: Downloaded data from https://drive.google.com/file/d/1Cao2q1M0b41r7P4EUmGh48numVMrA2BO/view?usp=drive_link into file artifacts/data_ingestion/data.zip]\n"
     ]
    },
    {
     "name": "stderr",
     "output_type": "stream",
     "text": [
      "\n"
     ]
    }
   ],
   "source": [
    "try:\n",
    "    config = configuration_manager()\n",
    "    data_ingestion_config = config.get_data_ingestion_config()\n",
    "    data_ingestion = data(config=data_ingestion_config)\n",
    "    data_ingestion.download_data()\n",
    "    data_ingestion.unzip_data()\n",
    "except Exception as e:\n",
    "    raise e"
   ]
  }
 ],
 "metadata": {
  "kernelspec": {
   "display_name": "kidney",
   "language": "python",
   "name": "python3"
  },
  "language_info": {
   "codemirror_mode": {
    "name": "ipython",
    "version": 3
   },
   "file_extension": ".py",
   "mimetype": "text/x-python",
   "name": "python",
   "nbconvert_exporter": "python",
   "pygments_lexer": "ipython3",
   "version": "3.10.11"
  }
 },
 "nbformat": 4,
 "nbformat_minor": 5
}
